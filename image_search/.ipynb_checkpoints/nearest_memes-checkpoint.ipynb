{
 "cells": [
  {
   "cell_type": "code",
   "execution_count": 96,
   "metadata": {},
   "outputs": [],
   "source": [
    "from keras.models import Sequential\n",
    "from keras.layers import GlobalAveragePooling2D\n",
    "from keras.preprocessing import image\n",
    "from keras.applications.resnet50 import ResNet50\n",
    "from keras.applications.resnet50 import preprocess_input\n",
    "from tqdm import tqdm\n",
    "\n",
    "import base64\n",
    "import numpy as np\n",
    "import matplotlib.pyplot as plt\n",
    "\n",
    "import sklearn\n",
    "import cv2\n",
    "\n",
    "import pandas as pd\n",
    "\n",
    "from glob import glob\n",
    "import pickle"
   ]
  },
  {
   "cell_type": "code",
   "execution_count": 97,
   "metadata": {},
   "outputs": [],
   "source": [
    "model = ResNet50(weights='imagenet', include_top=False)\n",
    "\n",
    "avg_model = Sequential()\n",
    "avg_model.add(model)\n",
    "avg_model.add(GlobalAveragePooling2D())\n",
    "\n",
    "def get_activations(pic_path):\n",
    "    img = image.load_img(pic_path, target_size=(224, 224))\n",
    "    img_data = image.img_to_array(img)\n",
    "    img_data = np.expand_dims(img_data, axis=0)\n",
    "    img_data = preprocess_input(img_data)\n",
    "    \n",
    "    return avg_model.predict(img_data)[0]"
   ]
  },
  {
   "cell_type": "code",
   "execution_count": 98,
   "metadata": {},
   "outputs": [],
   "source": [
    "def load_meme_meta(path):\n",
    "    pd_data = pd.read_csv(path, sep='\\|\\|\\|', header=None, engine='python')\n",
    "    \n",
    "    return pd_data\n",
    "\n",
    "def load_all_pics(path):\n",
    "    pics = glob(path + '*')\n",
    "    \n",
    "    results = dict()\n",
    "    for i in pics:\n",
    "        pic = base64.b64encode(open(i, \"rb\").read()).decode('utf-8')\n",
    "        results[i.replace('|', '/')] = pic\n",
    "        \n",
    "    return results"
   ]
  },
  {
   "cell_type": "code",
   "execution_count": 99,
   "metadata": {},
   "outputs": [],
   "source": [
    "activations_x = np.load('../dump/all_activations.npy')\n",
    "activations_y = np.load('../dump/all_meme_ys.npy')\n",
    "\n",
    "with open('../dump/meme_map.pkl', 'rb') as f:\n",
    "    inverse_map = pickle.load(f)\n",
    "    \n",
    "meme_meta = load_meme_meta('../dump/megaresult.txt')\n",
    "pics = load_all_pics('../dump/images_main/')"
   ]
  },
  {
   "cell_type": "code",
   "execution_count": 302,
   "metadata": {},
   "outputs": [],
   "source": [
    "def get_nearest_n(path, n):\n",
    "    activations = get_activations(path)\n",
    "    \n",
    "    dists = np.linalg.norm(activations_x - activations, axis=1)\n",
    "    dists_topn = np.argsort(dists)[:n]\n",
    "    \n",
    "    ys = activations_y[dists_topn]\n",
    "    print(ys)\n",
    "    ys = ['meme_pages/' + inverse_map[y].split('/')[-1][:-8] for y in ys]\n",
    "    \n",
    "    vals, counts = np.unique(ys, return_counts=True)\n",
    "    counts_sorted = np.argsort(counts)[::-1]\n",
    "    print(vals)\n",
    "    return vals[counts_sorted].tolist()[:3], counts[counts_sorted].tolist()[:3]"
   ]
  },
  {
   "cell_type": "code",
   "execution_count": 303,
   "metadata": {},
   "outputs": [],
   "source": [
    "def get_neighbors_meta(nearest_n, counts):\n",
    "    result = []\n",
    "    \n",
    "    data = meme_meta.loc[meme_meta[0].isin(nearest_n[:1])]\n",
    "    result.append({'title': data[3].values[0],\n",
    "                   'description': data[2].values[0],\n",
    "                   'count': counts[0],\n",
    "                   'link': data[5].values[0]})\n",
    "    \n",
    "    try:\n",
    "        data = meme_meta.loc[meme_meta[0].isin(nearest_n[1:2])]\n",
    "        result.append({'title': data[3].values[0],\n",
    "                       'description': data[2].values[0],\n",
    "                       'count': counts[1],\n",
    "                       'link': data[5].values[0]})\n",
    "    \n",
    "        data = meme_meta.loc[meme_meta[0].isin(nearest_n[2:3])]\n",
    "        result.append({'title': data[3].values[0],\n",
    "                       'description': data[2].values[0],\n",
    "                       'count': counts[2],\n",
    "                       'link': data[5].values[0]})\n",
    "    except:\n",
    "        pass\n",
    "    \n",
    "    return result"
   ]
  },
  {
   "cell_type": "code",
   "execution_count": 304,
   "metadata": {},
   "outputs": [],
   "source": [
    "path = '../trash/pica12.jpg'"
   ]
  },
  {
   "cell_type": "code",
   "execution_count": 305,
   "metadata": {},
   "outputs": [
    {
     "name": "stdout",
     "output_type": "stream",
     "text": [
      "['meme_pages/index.html.434']\n"
     ]
    }
   ],
   "source": [
    "nearest_n, counts = get_nearest_n(path, 9)"
   ]
  },
  {
   "cell_type": "code",
   "execution_count": 300,
   "metadata": {},
   "outputs": [
    {
     "data": {
      "text/plain": [
       "[{'title': 'Удивлённый Пикачу',\n",
       "  'description': 'Удивлённый Пикачу (Surprised Pikachu) - картинка-реакция из аниме \"Покемон\" с удивлённо приоткрывшим рот Пикачу. Изображение используется в качестве реакции на очень предсказуемые результаты.',\n",
       "  'count': 9,\n",
       "  'link': 'https://memepedia.ru/wp-content/uploads/2018/10/meme12-5-360x270.jpg'}]"
      ]
     },
     "execution_count": 300,
     "metadata": {},
     "output_type": "execute_result"
    }
   ],
   "source": [
    "get_neighbors_meta(nearest_n, counts)"
   ]
  },
  {
   "cell_type": "code",
   "execution_count": null,
   "metadata": {},
   "outputs": [],
   "source": []
  }
 ],
 "metadata": {
  "kernelspec": {
   "display_name": "Python (vkhack)",
   "language": "python",
   "name": "vkhack"
  },
  "language_info": {
   "codemirror_mode": {
    "name": "ipython",
    "version": 3
   },
   "file_extension": ".py",
   "mimetype": "text/x-python",
   "name": "python",
   "nbconvert_exporter": "python",
   "pygments_lexer": "ipython3",
   "version": "3.6.7"
  }
 },
 "nbformat": 4,
 "nbformat_minor": 2
}
