{
 "cells": [
  {
   "cell_type": "code",
   "execution_count": 29,
   "metadata": {},
   "outputs": [],
   "source": [
    "from keras.models import Sequential\n",
    "from keras.layers import GlobalAveragePooling2D\n",
    "from keras.preprocessing import image\n",
    "from keras.applications.resnet50 import ResNet50\n",
    "from keras.applications.resnet50 import preprocess_input\n",
    "from tqdm import tqdm\n",
    "\n",
    "import base64\n",
    "import numpy as np\n",
    "import matplotlib.pyplot as plt\n",
    "\n",
    "import sklearn\n",
    "import cv2\n",
    "\n",
    "import pandas as pd\n",
    "\n",
    "from glob import glob\n",
    "import pickle"
   ]
  },
  {
   "cell_type": "code",
   "execution_count": 2,
   "metadata": {},
   "outputs": [
    {
     "name": "stderr",
     "output_type": "stream",
     "text": [
      "/anaconda3/envs/vkhack/lib/python3.6/site-packages/keras_applications/resnet50.py:265: UserWarning: The output shape of `ResNet50(include_top=False)` has been changed since Keras 2.2.0.\n",
      "  warnings.warn('The output shape of `ResNet50(include_top=False)` '\n"
     ]
    }
   ],
   "source": [
    "model = ResNet50(weights='imagenet', include_top=False)\n",
    "\n",
    "avg_model = Sequential()\n",
    "avg_model.add(model)\n",
    "avg_model.add(GlobalAveragePooling2D())\n",
    "\n",
    "def get_activations(pic_path):\n",
    "    img = image.load_img(pic_path, target_size=(224, 224))\n",
    "    img_data = image.img_to_array(img)\n",
    "    img_data = np.expand_dims(img_data, axis=0)\n",
    "    img_data = preprocess_input(img_data)\n",
    "    \n",
    "    return avg_model.predict(img_data)[0]"
   ]
  },
  {
   "cell_type": "code",
   "execution_count": 22,
   "metadata": {},
   "outputs": [],
   "source": [
    "import cv2\n",
    "\n",
    "IMAGES_PATH = '/Users/vladgl/Downloads/vkhack/meme_pages_pics/'\n",
    "images = sorted(glob(IMAGES_PATH + '*'))\n",
    "\n",
    "def get_meme_pics(path):\n",
    "    pics = glob(path + '/*')\n",
    "    return pics\n",
    "    \n",
    "    result = []\n",
    "    for pic in pics:\n",
    "        img = cv2.imread(pic)\n",
    "        img = cv2.resize(pic, (224, 224))\n",
    "        result.append(img)\n",
    "        \n",
    "    return result\n",
    "\n",
    "pic_paths = []\n",
    "for i, image in enumerate(images):\n",
    "    pic_paths += get_meme_pics(image)"
   ]
  },
  {
   "cell_type": "code",
   "execution_count": 10,
   "metadata": {},
   "outputs": [],
   "source": [
    "ACTIVATIONS_PATH = '/Users/vladgl/Downloads/vkhack/pic_activations/'\n",
    "activations_lst = sorted(glob(ACTIVATIONS_PATH + '*'))\n",
    "\n",
    "xs = []\n",
    "ys = []\n",
    "\n",
    "inverse_dict = dict()\n",
    "\n",
    "pics_all = []\n",
    "\n",
    "for i, activation in enumerate(activations_lst):\n",
    "    inverse_dict[i] = activation\n",
    "    activations = np.load(activation)\n",
    "    activations_label = [i] * len(activations)\n",
    "    \n",
    "    xs.append(activations)\n",
    "    ys.append(activations_label)"
   ]
  },
  {
   "cell_type": "code",
   "execution_count": 3,
   "metadata": {},
   "outputs": [],
   "source": [
    "def load_meme_meta(path):\n",
    "    pd_data = pd.read_csv(path, sep='\\|\\|\\|', header=None, engine='python')\n",
    "    \n",
    "    return pd_data\n",
    "\n",
    "def load_all_pics(path):\n",
    "    pics = glob(path + '*')\n",
    "    \n",
    "    results = dict()\n",
    "    for i in pics:\n",
    "        pic = base64.b64encode(open(i, \"rb\").read()).decode('utf-8')\n",
    "        results[i.replace('|', '/')] = pic\n",
    "        \n",
    "    return results"
   ]
  },
  {
   "cell_type": "code",
   "execution_count": 24,
   "metadata": {},
   "outputs": [],
   "source": [
    "activations_x = np.load('../dump/all_activations.npy')\n",
    "activations_y = np.load('../dump/all_meme_ys.npy')\n",
    "\n",
    "with open('../dump/meme_map.pkl', 'rb') as f:\n",
    "    inverse_map = pickle.load(f)\n",
    "    \n",
    "meme_meta = load_meme_meta('../dump/megaresult.txt')\n",
    "pics = load_all_pics('../dump/images_main/')"
   ]
  },
  {
   "cell_type": "code",
   "execution_count": 37,
   "metadata": {},
   "outputs": [],
   "source": [
    "def get_nearest_n(path, n):\n",
    "    activations = get_activations(path)\n",
    "    \n",
    "    dists = np.linalg.norm(activations_x - activations, axis=1)\n",
    "    dists_topn = np.argsort(dists)[:n]\n",
    "    \n",
    "    ys = activations_y[dists_topn]\n",
    "    ys = ['meme_pages/' + inverse_map[y].split('/')[-1][:-8] for y in ys]\n",
    "    \n",
    "    vals, counts = np.unique(ys, return_counts=True)\n",
    "    counts_sorted = np.argsort(counts)[::-1]\n",
    "    return dists_topn"
   ]
  },
  {
   "cell_type": "code",
   "execution_count": 38,
   "metadata": {},
   "outputs": [],
   "source": [
    "def get_neighbors_meta(nearest_n, counts):\n",
    "    result = []\n",
    "    \n",
    "    data = meme_meta.loc[meme_meta[0].isin(nearest_n[:1])]\n",
    "    result.append({'title': data[3].values[0],\n",
    "                   'description': data[2].values[0],\n",
    "                   'count': counts[0],\n",
    "                   'link': data[5].values[0]})\n",
    "    \n",
    "    try:\n",
    "        data = meme_meta.loc[meme_meta[0].isin(nearest_n[1:2])]\n",
    "        result.append({'title': data[3].values[0],\n",
    "                       'description': data[2].values[0],\n",
    "                       'count': counts[1],\n",
    "                       'link': data[5].values[0]})\n",
    "    \n",
    "        data = meme_meta.loc[meme_meta[0].isin(nearest_n[2:3])]\n",
    "        result.append({'title': data[3].values[0],\n",
    "                       'description': data[2].values[0],\n",
    "                       'count': counts[2],\n",
    "                       'link': data[5].values[0]})\n",
    "    except:\n",
    "        pass\n",
    "    \n",
    "    return result"
   ]
  },
  {
   "cell_type": "code",
   "execution_count": null,
   "metadata": {},
   "outputs": [],
   "source": []
  },
  {
   "cell_type": "code",
   "execution_count": 39,
   "metadata": {},
   "outputs": [],
   "source": [
    "path = '../trash/pica12.jpg'"
   ]
  },
  {
   "cell_type": "code",
   "execution_count": 43,
   "metadata": {},
   "outputs": [],
   "source": [
    "dists = get_nearest_n(path, 256)"
   ]
  },
  {
   "cell_type": "code",
   "execution_count": 44,
   "metadata": {},
   "outputs": [
    {
     "data": {
      "text/plain": [
       "256"
      ]
     },
     "execution_count": 44,
     "metadata": {},
     "output_type": "execute_result"
    }
   ],
   "source": [
    "f = open('pica.txt', 'w')\n",
    "for dist in dists:\n",
    "    f.write(pic_paths[dist] + '\\n')"
   ]
  },
  {
   "cell_type": "code",
   "execution_count": null,
   "metadata": {},
   "outputs": [],
   "source": []
  }
 ],
 "metadata": {
  "kernelspec": {
   "display_name": "Python (vkhack)",
   "language": "python",
   "name": "vkhack"
  },
  "language_info": {
   "codemirror_mode": {
    "name": "ipython",
    "version": 3
   },
   "file_extension": ".py",
   "mimetype": "text/x-python",
   "name": "python",
   "nbconvert_exporter": "python",
   "pygments_lexer": "ipython3",
   "version": "3.6.7"
  }
 },
 "nbformat": 4,
 "nbformat_minor": 2
}
