{
 "cells": [
  {
   "cell_type": "code",
   "execution_count": 29,
   "metadata": {},
   "outputs": [],
   "source": [
    "from keras.models import Sequential\n",
    "from keras.layers import GlobalAveragePooling2D\n",
    "from keras.preprocessing import image\n",
    "from keras.applications.resnet50 import ResNet50\n",
    "from keras.applications.resnet50 import preprocess_input\n",
    "from tqdm import tqdm\n",
    "\n",
    "import base64\n",
    "import numpy as np\n",
    "import matplotlib.pyplot as plt\n",
    "\n",
    "import sklearn\n",
    "import cv2\n",
    "\n",
    "import pandas as pd\n",
    "\n",
    "from glob import glob\n",
    "import pickle"
   ]
  },
  {
   "cell_type": "code",
   "execution_count": 2,
   "metadata": {},
   "outputs": [
    {
     "name": "stderr",
     "output_type": "stream",
     "text": [
      "/anaconda3/envs/vkhack/lib/python3.6/site-packages/keras_applications/resnet50.py:265: UserWarning: The output shape of `ResNet50(include_top=False)` has been changed since Keras 2.2.0.\n",
      "  warnings.warn('The output shape of `ResNet50(include_top=False)` '\n"
     ]
    }
   ],
   "source": [
    "model = ResNet50(weights='imagenet', include_top=False)\n",
    "\n",
    "avg_model = Sequential()\n",
    "avg_model.add(model)\n",
    "avg_model.add(GlobalAveragePooling2D())\n",
    "\n",
    "def get_activations(pic_path):\n",
    "    img = image.load_img(pic_path, target_size=(224, 224))\n",
    "    img_data = image.img_to_array(img)\n",
    "    img_data = np.expand_dims(img_data, axis=0)\n",
    "    img_data = preprocess_input(img_data)\n",
    "    \n",
    "    return avg_model.predict(img_data)[0]"
   ]
  },
  {
   "cell_type": "code",
   "execution_count": 50,
   "metadata": {},
   "outputs": [],
   "source": [
    "import cv2\n",
    "\n",
    "IMAGES_PATH = '/Users/vladgl/Downloads/vkhack/meme_pages_pics_old copy/'\n",
    "images = sorted(glob(IMAGES_PATH + '*'))\n",
    "\n",
    "def get_meme_pics(path):\n",
    "    pics = glob(path + '/*')\n",
    "    return pics\n",
    "    \n",
    "    result = []\n",
    "    for pic in pics:\n",
    "        img = cv2.imread(pic)\n",
    "        img = cv2.resize(pic, (224, 224))\n",
    "        result.append(img)\n",
    "        \n",
    "    return result\n",
    "\n",
    "pic_paths = []\n",
    "for i, image in enumerate(images):\n",
    "    pic_paths += get_meme_pics(image)"
   ]
  },
  {
   "cell_type": "code",
   "execution_count": 53,
   "metadata": {},
   "outputs": [
    {
     "data": {
      "text/plain": [
       "13484"
      ]
     },
     "execution_count": 53,
     "metadata": {},
     "output_type": "execute_result"
    }
   ],
   "source": [
    "len(pic_paths)"
   ]
  },
  {
   "cell_type": "code",
   "execution_count": 55,
   "metadata": {},
   "outputs": [
    {
     "data": {
      "text/plain": [
       "13531"
      ]
     },
     "execution_count": 55,
     "metadata": {},
     "output_type": "execute_result"
    }
   ],
   "source": [
    "len(activations_x)"
   ]
  },
  {
   "cell_type": "code",
   "execution_count": 10,
   "metadata": {},
   "outputs": [],
   "source": [
    "ACTIVATIONS_PATH = '/Users/vladgl/Downloads/vkhack/pic_activations/'\n",
    "activations_lst = sorted(glob(ACTIVATIONS_PATH + '*'))\n",
    "\n",
    "xs = []\n",
    "ys = []\n",
    "\n",
    "inverse_dict = dict()\n",
    "\n",
    "pics_all = []\n",
    "\n",
    "for i, activation in enumerate(activations_lst):\n",
    "    inverse_dict[i] = activation\n",
    "    activations = np.load(activation)\n",
    "    activations_label = [i] * len(activations)\n",
    "    \n",
    "    xs.append(activations)\n",
    "    ys.append(activations_label)"
   ]
  },
  {
   "cell_type": "code",
   "execution_count": 3,
   "metadata": {},
   "outputs": [],
   "source": [
    "def load_meme_meta(path):\n",
    "    pd_data = pd.read_csv(path, sep='\\|\\|\\|', header=None, engine='python')\n",
    "    \n",
    "    return pd_data\n",
    "\n",
    "def load_all_pics(path):\n",
    "    pics = glob(path + '*')\n",
    "    \n",
    "    results = dict()\n",
    "    for i in pics:\n",
    "        pic = base64.b64encode(open(i, \"rb\").read()).decode('utf-8')\n",
    "        results[i.replace('|', '/')] = pic\n",
    "        \n",
    "    return results"
   ]
  },
  {
   "cell_type": "code",
   "execution_count": 24,
   "metadata": {},
   "outputs": [],
   "source": [
    "activations_x = np.load('../dump/all_activations.npy')\n",
    "activations_y = np.load('../dump/all_meme_ys.npy')\n",
    "\n",
    "with open('../dump/meme_map.pkl', 'rb') as f:\n",
    "    inverse_map = pickle.load(f)\n",
    "    \n",
    "meme_meta = load_meme_meta('../dump/megaresult.txt')\n",
    "pics = load_all_pics('../dump/images_main/')"
   ]
  },
  {
   "cell_type": "code",
   "execution_count": 37,
   "metadata": {},
   "outputs": [],
   "source": [
    "def get_nearest_n(path, n):\n",
    "    activations = get_activations(path)\n",
    "    \n",
    "    dists = np.linalg.norm(activations_x - activations, axis=1)\n",
    "    dists_topn = np.argsort(dists)[:n]\n",
    "    \n",
    "    ys = activations_y[dists_topn]\n",
    "    ys = ['meme_pages/' + inverse_map[y].split('/')[-1][:-8] for y in ys]\n",
    "    \n",
    "    vals, counts = np.unique(ys, return_counts=True)\n",
    "    counts_sorted = np.argsort(counts)[::-1]\n",
    "    return dists_topn"
   ]
  },
  {
   "cell_type": "code",
   "execution_count": 38,
   "metadata": {},
   "outputs": [],
   "source": [
    "def get_neighbors_meta(nearest_n, counts):\n",
    "    result = []\n",
    "    \n",
    "    data = meme_meta.loc[meme_meta[0].isin(nearest_n[:1])]\n",
    "    result.append({'title': data[3].values[0],\n",
    "                   'description': data[2].values[0],\n",
    "                   'count': counts[0],\n",
    "                   'link': data[5].values[0]})\n",
    "    \n",
    "    try:\n",
    "        data = meme_meta.loc[meme_meta[0].isin(nearest_n[1:2])]\n",
    "        result.append({'title': data[3].values[0],\n",
    "                       'description': data[2].values[0],\n",
    "                       'count': counts[1],\n",
    "                       'link': data[5].values[0]})\n",
    "    \n",
    "        data = meme_meta.loc[meme_meta[0].isin(nearest_n[2:3])]\n",
    "        result.append({'title': data[3].values[0],\n",
    "                       'description': data[2].values[0],\n",
    "                       'count': counts[2],\n",
    "                       'link': data[5].values[0]})\n",
    "    except:\n",
    "        pass\n",
    "    \n",
    "    return result"
   ]
  },
  {
   "cell_type": "code",
   "execution_count": null,
   "metadata": {},
   "outputs": [],
   "source": [
    "pic_paths[]"
   ]
  },
  {
   "cell_type": "code",
   "execution_count": 49,
   "metadata": {},
   "outputs": [
    {
     "data": {
      "text/plain": [
       "array([ 7008,  7013,  7012,  7009,  6997,  6998,  7005,  7000,  7004,\n",
       "        7007,  6999,  7002,  7011,  7010,  7006,  7003,  7001,   448,\n",
       "        6996,  2894,   447,  6028,   449,  8570,  3896,  7861, 13118,\n",
       "        8572,  8230,  7952,   734,  3478,   438,  2837,  1344,  1323,\n",
       "        4172,  4761, 11350,   737,  6116, 11728,   741,  8158,  3279,\n",
       "        4243,  1854,   451,  4237,  7621,  7954,   442, 11243,   443,\n",
       "         238,  8231,  4762,  2884,  4242, 12623,  5605, 11136, 10868,\n",
       "        7932, 10365,  4411,  4420,  4407, 13512,  6783,  3075, 11234,\n",
       "        9188,  3774, 13119,  4247, 10829,  7288,  9014,  3443,  7933,\n",
       "        7987,  1698, 11417,  4985,  5860,  5497,  5601,  3074,  2920,\n",
       "        5496, 12252, 11133, 12613,  4417, 12879, 12615,  1695, 12258,\n",
       "        7571, 12180,  7521,  4828,  5125,  6112,  6810,  5438,  8162,\n",
       "       12115, 12362,  3295,  7931,  7567, 10270, 12612,  1188,  4427,\n",
       "        1424, 12103, 11733, 12247,  2499,   735, 10668,  8381,  8278,\n",
       "         450,  5995,  3353, 10162,  2546,  4423, 13187,  5858, 11525,\n",
       "        1191,  8227,  6104,   263,  4767,  3982,  7993,  7955,  5114,\n",
       "       12403,  8571,  4693,  7568,  3061,  4227, 12992,  9692, 10161,\n",
       "        7989,   736,   976,  9923, 12248,  5857,   978,   517,  7232,\n",
       "       10218, 12071, 11724,  3683,  4664,  5598,  6040,  4426, 11058,\n",
       "       10268,  2771, 11356,  8044, 13232, 12361, 11729,   218,   234,\n",
       "       10871, 12407,  9008,  3082,  5856, 12253,  9850,  7287,  7988,\n",
       "        1401,    30,  5917, 12486,  9072,  8568,  7254,  6052, 10238,\n",
       "       12357,  4311,  3180, 12067, 12638,  4655, 10164,  6231,  4759,\n",
       "       11173,  4418,  4241,  7233,  4365, 10965,  6589, 12394, 11893,\n",
       "       12621,  7570,  3081,  4240, 13121, 10273,  4306,  9927, 12396,\n",
       "       13460, 10167,  8567,  3346, 10274,  9069,  2914,  6002,  4238,\n",
       "        6553,   995,  1617,  8225, 10160,  6874,  4424,   135,  1697,\n",
       "       11730,  3080,  2849,  3307,   858,  3191,  9584, 11481,  3079,\n",
       "       12325,  7566,  3794,  4270])"
      ]
     },
     "execution_count": 49,
     "metadata": {},
     "output_type": "execute_result"
    }
   ],
   "source": [
    "dists"
   ]
  },
  {
   "cell_type": "code",
   "execution_count": 46,
   "metadata": {},
   "outputs": [],
   "source": [
    "path = '../trash/pica.jpg'"
   ]
  },
  {
   "cell_type": "code",
   "execution_count": 47,
   "metadata": {},
   "outputs": [],
   "source": [
    "dists = get_nearest_n(path, 256)"
   ]
  },
  {
   "cell_type": "code",
   "execution_count": 48,
   "metadata": {},
   "outputs": [],
   "source": [
    "f = open('pica.txt', 'w')\n",
    "for dist in dists:\n",
    "    f.write(pic_paths[dist] + '\\n')\n",
    "f.close()"
   ]
  },
  {
   "cell_type": "code",
   "execution_count": null,
   "metadata": {},
   "outputs": [],
   "source": []
  }
 ],
 "metadata": {
  "kernelspec": {
   "display_name": "Python (vkhack)",
   "language": "python",
   "name": "vkhack"
  },
  "language_info": {
   "codemirror_mode": {
    "name": "ipython",
    "version": 3
   },
   "file_extension": ".py",
   "mimetype": "text/x-python",
   "name": "python",
   "nbconvert_exporter": "python",
   "pygments_lexer": "ipython3",
   "version": "3.6.7"
  }
 },
 "nbformat": 4,
 "nbformat_minor": 2
}
