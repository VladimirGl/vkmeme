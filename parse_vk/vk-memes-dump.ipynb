{
 "cells": [
  {
   "cell_type": "code",
   "execution_count": 1,
   "metadata": {
    "collapsed": false
   },
   "outputs": [],
   "source": [
    "import requests\n",
    "from datetime import datetime, timedelta\n",
    "import time\n",
    "import os\n",
    "import json\n",
    "import cv2\n",
    "import urllib.request\n",
    "\n",
    "app_id = 6747454\n",
    "app_secured_token = 'SqPOuhy4tven1QcnYCiy'\n",
    "app_service_token = 'aedca86caedca86caedca86c46aeba5d52aaedcaedca86cf53a3025da08ab36420581a4'\n",
    "\n",
    "api_version = 5.52"
   ]
  },
  {
   "cell_type": "code",
   "execution_count": 2,
   "metadata": {
    "collapsed": false
   },
   "outputs": [],
   "source": [
    "# # get user data like an app\n",
    "\n",
    "# req_usersget_url = 'https://api.vk.com/method/users.get'\n",
    "# req_usersget_payload = {'user_id':1, 'v':api_version, 'access_token':app_service_token}\n",
    "# req_usersget = requests.get(req_usersget_url, params=req_usersget_payload)\n",
    "# req_usersget.json()"
   ]
  },
  {
   "cell_type": "code",
   "execution_count": 3,
   "metadata": {
    "collapsed": false
   },
   "outputs": [],
   "source": [
    "# # get wall data like an app\n",
    "# req_wallget_domain = 'eternalclassic'\n",
    "\n",
    "# req_wallget_count = 100\n",
    "# req_wallget_offset = 0\n",
    "\n",
    "# req_wallget_url = 'https://api.vk.com/method/wall.get'\n",
    "# req_wallget_payload = {'domain':req_wallget_domain, 'count':req_wallget_count, 'offset':req_wallget_offset, 'v':api_version, 'access_token':app_service_token}\n",
    "# req_wallget = requests.get(req_wallget_url, params=req_wallget_payload)\n",
    "# req_wallget.json()"
   ]
  },
  {
   "cell_type": "code",
   "execution_count": 4,
   "metadata": {
    "collapsed": true
   },
   "outputs": [],
   "source": [
    "def get_url_from_attachment(photo):\n",
    "    photourl = attachment['photo'].get('photo_1280')\n",
    "    if (photourl is None):\n",
    "        photourl = attachment['photo'].get('photo_807')\n",
    "    if (photourl is None):\n",
    "        photourl = attachment['photo'].get('photo_604')\n",
    "    if (photourl is None):\n",
    "        photourl = attachment['photo'].get('photo_130')\n",
    "    return photourl"
   ]
  },
  {
   "cell_type": "code",
   "execution_count": 7,
   "metadata": {
    "collapsed": false
   },
   "outputs": [
    {
     "name": "stdout",
     "output_type": "stream",
     "text": [
      "parsed/1541888549\n",
      "\n",
      "Parsing  MDK ( mudakoff )  -  1 / 18 ...\n",
      "\n"
     ]
    },
    {
     "ename": "KeyboardInterrupt",
     "evalue": "",
     "output_type": "error",
     "traceback": [
      "\u001b[0;31m---------------------------------------------------------------------------\u001b[0m",
      "\u001b[0;31mKeyboardInterrupt\u001b[0m                         Traceback (most recent call last)",
      "\u001b[0;32m<ipython-input-7-66d883fb294a>\u001b[0m in \u001b[0;36m<module>\u001b[0;34m()\u001b[0m\n\u001b[1;32m    102\u001b[0m                             \u001b[0mfname\u001b[0m \u001b[0;34m=\u001b[0m \u001b[0mdate\u001b[0m\u001b[0;34m.\u001b[0m\u001b[0mstrftime\u001b[0m\u001b[0;34m(\u001b[0m\u001b[0;34m'%Y_%m_%d_%H_%M_%S'\u001b[0m\u001b[0;34m)\u001b[0m\u001b[0;34m+\u001b[0m\u001b[0;34m'.'\u001b[0m\u001b[0;34m+\u001b[0m\u001b[0murl\u001b[0m\u001b[0;34m.\u001b[0m\u001b[0msplit\u001b[0m\u001b[0;34m(\u001b[0m\u001b[0;34m'.'\u001b[0m\u001b[0;34m)\u001b[0m\u001b[0;34m[\u001b[0m\u001b[0;34m-\u001b[0m\u001b[0;36m1\u001b[0m\u001b[0;34m]\u001b[0m\u001b[0;34m\u001b[0m\u001b[0m\n\u001b[1;32m    103\u001b[0m                             \u001b[0mfname\u001b[0m \u001b[0;34m=\u001b[0m \u001b[0mos\u001b[0m\u001b[0;34m.\u001b[0m\u001b[0mpath\u001b[0m\u001b[0;34m.\u001b[0m\u001b[0mjoin\u001b[0m\u001b[0;34m(\u001b[0m\u001b[0mimages_current_src_dir_path\u001b[0m\u001b[0;34m,\u001b[0m\u001b[0mfname\u001b[0m\u001b[0;34m)\u001b[0m\u001b[0;34m\u001b[0m\u001b[0m\n\u001b[0;32m--> 104\u001b[0;31m                             \u001b[0murllib\u001b[0m\u001b[0;34m.\u001b[0m\u001b[0mrequest\u001b[0m\u001b[0;34m.\u001b[0m\u001b[0murlretrieve\u001b[0m\u001b[0;34m(\u001b[0m\u001b[0murl\u001b[0m\u001b[0;34m,\u001b[0m \u001b[0mfname\u001b[0m\u001b[0;34m)\u001b[0m\u001b[0;34m\u001b[0m\u001b[0m\n\u001b[0m\u001b[1;32m    105\u001b[0m \u001b[0;31m#                             print (item['id'], src, date, url)\u001b[0m\u001b[0;34m\u001b[0m\u001b[0;34m\u001b[0m\u001b[0m\n\u001b[1;32m    106\u001b[0m \u001b[0;34m\u001b[0m\u001b[0m\n",
      "\u001b[0;32m/usr/lib/python3.5/urllib/request.py\u001b[0m in \u001b[0;36murlretrieve\u001b[0;34m(url, filename, reporthook, data)\u001b[0m\n\u001b[1;32m    215\u001b[0m \u001b[0;34m\u001b[0m\u001b[0m\n\u001b[1;32m    216\u001b[0m             \u001b[0;32mwhile\u001b[0m \u001b[0;32mTrue\u001b[0m\u001b[0;34m:\u001b[0m\u001b[0;34m\u001b[0m\u001b[0m\n\u001b[0;32m--> 217\u001b[0;31m                 \u001b[0mblock\u001b[0m \u001b[0;34m=\u001b[0m \u001b[0mfp\u001b[0m\u001b[0;34m.\u001b[0m\u001b[0mread\u001b[0m\u001b[0;34m(\u001b[0m\u001b[0mbs\u001b[0m\u001b[0;34m)\u001b[0m\u001b[0;34m\u001b[0m\u001b[0m\n\u001b[0m\u001b[1;32m    218\u001b[0m                 \u001b[0;32mif\u001b[0m \u001b[0;32mnot\u001b[0m \u001b[0mblock\u001b[0m\u001b[0;34m:\u001b[0m\u001b[0;34m\u001b[0m\u001b[0m\n\u001b[1;32m    219\u001b[0m                     \u001b[0;32mbreak\u001b[0m\u001b[0;34m\u001b[0m\u001b[0m\n",
      "\u001b[0;32m/usr/lib/python3.5/http/client.py\u001b[0m in \u001b[0;36mread\u001b[0;34m(self, amt)\u001b[0m\n\u001b[1;32m    446\u001b[0m             \u001b[0;31m# Amount is given, implement using readinto\u001b[0m\u001b[0;34m\u001b[0m\u001b[0;34m\u001b[0m\u001b[0m\n\u001b[1;32m    447\u001b[0m             \u001b[0mb\u001b[0m \u001b[0;34m=\u001b[0m \u001b[0mbytearray\u001b[0m\u001b[0;34m(\u001b[0m\u001b[0mamt\u001b[0m\u001b[0;34m)\u001b[0m\u001b[0;34m\u001b[0m\u001b[0m\n\u001b[0;32m--> 448\u001b[0;31m             \u001b[0mn\u001b[0m \u001b[0;34m=\u001b[0m \u001b[0mself\u001b[0m\u001b[0;34m.\u001b[0m\u001b[0mreadinto\u001b[0m\u001b[0;34m(\u001b[0m\u001b[0mb\u001b[0m\u001b[0;34m)\u001b[0m\u001b[0;34m\u001b[0m\u001b[0m\n\u001b[0m\u001b[1;32m    449\u001b[0m             \u001b[0;32mreturn\u001b[0m \u001b[0mmemoryview\u001b[0m\u001b[0;34m(\u001b[0m\u001b[0mb\u001b[0m\u001b[0;34m)\u001b[0m\u001b[0;34m[\u001b[0m\u001b[0;34m:\u001b[0m\u001b[0mn\u001b[0m\u001b[0;34m]\u001b[0m\u001b[0;34m.\u001b[0m\u001b[0mtobytes\u001b[0m\u001b[0;34m(\u001b[0m\u001b[0;34m)\u001b[0m\u001b[0;34m\u001b[0m\u001b[0m\n\u001b[1;32m    450\u001b[0m         \u001b[0;32melse\u001b[0m\u001b[0;34m:\u001b[0m\u001b[0;34m\u001b[0m\u001b[0m\n",
      "\u001b[0;32m/usr/lib/python3.5/http/client.py\u001b[0m in \u001b[0;36mreadinto\u001b[0;34m(self, b)\u001b[0m\n\u001b[1;32m    486\u001b[0m         \u001b[0;31m# connection, and the user is reading more bytes than will be provided\u001b[0m\u001b[0;34m\u001b[0m\u001b[0;34m\u001b[0m\u001b[0m\n\u001b[1;32m    487\u001b[0m         \u001b[0;31m# (for example, reading in 1k chunks)\u001b[0m\u001b[0;34m\u001b[0m\u001b[0;34m\u001b[0m\u001b[0m\n\u001b[0;32m--> 488\u001b[0;31m         \u001b[0mn\u001b[0m \u001b[0;34m=\u001b[0m \u001b[0mself\u001b[0m\u001b[0;34m.\u001b[0m\u001b[0mfp\u001b[0m\u001b[0;34m.\u001b[0m\u001b[0mreadinto\u001b[0m\u001b[0;34m(\u001b[0m\u001b[0mb\u001b[0m\u001b[0;34m)\u001b[0m\u001b[0;34m\u001b[0m\u001b[0m\n\u001b[0m\u001b[1;32m    489\u001b[0m         \u001b[0;32mif\u001b[0m \u001b[0;32mnot\u001b[0m \u001b[0mn\u001b[0m \u001b[0;32mand\u001b[0m \u001b[0mb\u001b[0m\u001b[0;34m:\u001b[0m\u001b[0;34m\u001b[0m\u001b[0m\n\u001b[1;32m    490\u001b[0m             \u001b[0;31m# Ideally, we would raise IncompleteRead if the content-length\u001b[0m\u001b[0;34m\u001b[0m\u001b[0;34m\u001b[0m\u001b[0m\n",
      "\u001b[0;32m/usr/lib/python3.5/socket.py\u001b[0m in \u001b[0;36mreadinto\u001b[0;34m(self, b)\u001b[0m\n\u001b[1;32m    573\u001b[0m         \u001b[0;32mwhile\u001b[0m \u001b[0;32mTrue\u001b[0m\u001b[0;34m:\u001b[0m\u001b[0;34m\u001b[0m\u001b[0m\n\u001b[1;32m    574\u001b[0m             \u001b[0;32mtry\u001b[0m\u001b[0;34m:\u001b[0m\u001b[0;34m\u001b[0m\u001b[0m\n\u001b[0;32m--> 575\u001b[0;31m                 \u001b[0;32mreturn\u001b[0m \u001b[0mself\u001b[0m\u001b[0;34m.\u001b[0m\u001b[0m_sock\u001b[0m\u001b[0;34m.\u001b[0m\u001b[0mrecv_into\u001b[0m\u001b[0;34m(\u001b[0m\u001b[0mb\u001b[0m\u001b[0;34m)\u001b[0m\u001b[0;34m\u001b[0m\u001b[0m\n\u001b[0m\u001b[1;32m    576\u001b[0m             \u001b[0;32mexcept\u001b[0m \u001b[0mtimeout\u001b[0m\u001b[0;34m:\u001b[0m\u001b[0;34m\u001b[0m\u001b[0m\n\u001b[1;32m    577\u001b[0m                 \u001b[0mself\u001b[0m\u001b[0;34m.\u001b[0m\u001b[0m_timeout_occurred\u001b[0m \u001b[0;34m=\u001b[0m \u001b[0;32mTrue\u001b[0m\u001b[0;34m\u001b[0m\u001b[0m\n",
      "\u001b[0;32m/usr/lib/python3.5/ssl.py\u001b[0m in \u001b[0;36mrecv_into\u001b[0;34m(self, buffer, nbytes, flags)\u001b[0m\n\u001b[1;32m    927\u001b[0m                   \u001b[0;34m\"non-zero flags not allowed in calls to recv_into() on %s\"\u001b[0m \u001b[0;34m%\u001b[0m\u001b[0;34m\u001b[0m\u001b[0m\n\u001b[1;32m    928\u001b[0m                   self.__class__)\n\u001b[0;32m--> 929\u001b[0;31m             \u001b[0;32mreturn\u001b[0m \u001b[0mself\u001b[0m\u001b[0;34m.\u001b[0m\u001b[0mread\u001b[0m\u001b[0;34m(\u001b[0m\u001b[0mnbytes\u001b[0m\u001b[0;34m,\u001b[0m \u001b[0mbuffer\u001b[0m\u001b[0;34m)\u001b[0m\u001b[0;34m\u001b[0m\u001b[0m\n\u001b[0m\u001b[1;32m    930\u001b[0m         \u001b[0;32melse\u001b[0m\u001b[0;34m:\u001b[0m\u001b[0;34m\u001b[0m\u001b[0m\n\u001b[1;32m    931\u001b[0m             \u001b[0;32mreturn\u001b[0m \u001b[0msocket\u001b[0m\u001b[0;34m.\u001b[0m\u001b[0mrecv_into\u001b[0m\u001b[0;34m(\u001b[0m\u001b[0mself\u001b[0m\u001b[0;34m,\u001b[0m \u001b[0mbuffer\u001b[0m\u001b[0;34m,\u001b[0m \u001b[0mnbytes\u001b[0m\u001b[0;34m,\u001b[0m \u001b[0mflags\u001b[0m\u001b[0;34m)\u001b[0m\u001b[0;34m\u001b[0m\u001b[0m\n",
      "\u001b[0;32m/usr/lib/python3.5/ssl.py\u001b[0m in \u001b[0;36mread\u001b[0;34m(self, len, buffer)\u001b[0m\n\u001b[1;32m    789\u001b[0m             \u001b[0;32mraise\u001b[0m \u001b[0mValueError\u001b[0m\u001b[0;34m(\u001b[0m\u001b[0;34m\"Read on closed or unwrapped SSL socket.\"\u001b[0m\u001b[0;34m)\u001b[0m\u001b[0;34m\u001b[0m\u001b[0m\n\u001b[1;32m    790\u001b[0m         \u001b[0;32mtry\u001b[0m\u001b[0;34m:\u001b[0m\u001b[0;34m\u001b[0m\u001b[0m\n\u001b[0;32m--> 791\u001b[0;31m             \u001b[0;32mreturn\u001b[0m \u001b[0mself\u001b[0m\u001b[0;34m.\u001b[0m\u001b[0m_sslobj\u001b[0m\u001b[0;34m.\u001b[0m\u001b[0mread\u001b[0m\u001b[0;34m(\u001b[0m\u001b[0mlen\u001b[0m\u001b[0;34m,\u001b[0m \u001b[0mbuffer\u001b[0m\u001b[0;34m)\u001b[0m\u001b[0;34m\u001b[0m\u001b[0m\n\u001b[0m\u001b[1;32m    792\u001b[0m         \u001b[0;32mexcept\u001b[0m \u001b[0mSSLError\u001b[0m \u001b[0;32mas\u001b[0m \u001b[0mx\u001b[0m\u001b[0;34m:\u001b[0m\u001b[0;34m\u001b[0m\u001b[0m\n\u001b[1;32m    793\u001b[0m             \u001b[0;32mif\u001b[0m \u001b[0mx\u001b[0m\u001b[0;34m.\u001b[0m\u001b[0margs\u001b[0m\u001b[0;34m[\u001b[0m\u001b[0;36m0\u001b[0m\u001b[0;34m]\u001b[0m \u001b[0;34m==\u001b[0m \u001b[0mSSL_ERROR_EOF\u001b[0m \u001b[0;32mand\u001b[0m \u001b[0mself\u001b[0m\u001b[0;34m.\u001b[0m\u001b[0msuppress_ragged_eofs\u001b[0m\u001b[0;34m:\u001b[0m\u001b[0;34m\u001b[0m\u001b[0m\n",
      "\u001b[0;32m/usr/lib/python3.5/ssl.py\u001b[0m in \u001b[0;36mread\u001b[0;34m(self, len, buffer)\u001b[0m\n\u001b[1;32m    573\u001b[0m         \"\"\"\n\u001b[1;32m    574\u001b[0m         \u001b[0;32mif\u001b[0m \u001b[0mbuffer\u001b[0m \u001b[0;32mis\u001b[0m \u001b[0;32mnot\u001b[0m \u001b[0;32mNone\u001b[0m\u001b[0;34m:\u001b[0m\u001b[0;34m\u001b[0m\u001b[0m\n\u001b[0;32m--> 575\u001b[0;31m             \u001b[0mv\u001b[0m \u001b[0;34m=\u001b[0m \u001b[0mself\u001b[0m\u001b[0;34m.\u001b[0m\u001b[0m_sslobj\u001b[0m\u001b[0;34m.\u001b[0m\u001b[0mread\u001b[0m\u001b[0;34m(\u001b[0m\u001b[0mlen\u001b[0m\u001b[0;34m,\u001b[0m \u001b[0mbuffer\u001b[0m\u001b[0;34m)\u001b[0m\u001b[0;34m\u001b[0m\u001b[0m\n\u001b[0m\u001b[1;32m    576\u001b[0m         \u001b[0;32melse\u001b[0m\u001b[0;34m:\u001b[0m\u001b[0;34m\u001b[0m\u001b[0m\n\u001b[1;32m    577\u001b[0m             \u001b[0mv\u001b[0m \u001b[0;34m=\u001b[0m \u001b[0mself\u001b[0m\u001b[0;34m.\u001b[0m\u001b[0m_sslobj\u001b[0m\u001b[0;34m.\u001b[0m\u001b[0mread\u001b[0m\u001b[0;34m(\u001b[0m\u001b[0mlen\u001b[0m\u001b[0;34m)\u001b[0m\u001b[0;34m\u001b[0m\u001b[0m\n",
      "\u001b[0;31mKeyboardInterrupt\u001b[0m: "
     ]
    }
   ],
   "source": [
    "# parser\n",
    "\n",
    "# get user data like an app\n",
    "# req_wallget_count = 2\n",
    "# req_wallget_offset = 0\n",
    "\n",
    "sources = ['mudakoff', 'borsch', 'ovsyanochan', 'ohurmenno', 'maddy_zone', 'fuck_humor', 'dankest_dankest', 'newmemedealer', 'dank_memes_ayylmao', 'ru9gag', 'real_sci_intellectualism', 'phys_kek', 'karkb', '4ch', 'wtf.rasha', 'ru2ch', 'chan4', 'weirdreparametrizationtrick']\n",
    "N_hours = 120\n",
    "\n",
    "curdate = datetime.now()\n",
    "lastdate = curdate - timedelta(hours=N_hours)\n",
    "# print (curdate, lastdate)\n",
    "\n",
    "\n",
    "core_dir_path = os.path.join('parsed', str(int(time.time())))\n",
    "print (core_dir_path)\n",
    "os.mkdir(core_dir_path)\n",
    "\n",
    "# timestamp = int(time.mktime(curdate).timetuple())\n",
    "timestamp = int(time.mktime(curdate.timetuple()))\n",
    "dataforsave_json = {'date':curdate.strftime('%Y-%m-%d %H:%M:%S'), 'timestamp':timestamp, 'duration':N_hours, 'sources':[], 'data':[]}\n",
    "\n",
    "counter = 0\n",
    "\n",
    "for src in sources:\n",
    "    counter+=1\n",
    "    ####\n",
    "    \n",
    "    req_grouget_url = 'https://api.vk.com/method/groups.getById'\n",
    "    req_grouget_payload = {'group_id':src, 'fields':['name','members_count'], 'v':api_version, 'access_token':app_service_token}\n",
    "    req_grouget = requests.get(req_grouget_url, params=req_grouget_payload)\n",
    "    result = req_grouget.json()\n",
    "#     print (result)\n",
    "    \n",
    "    group = result['response'][0]\n",
    "    \n",
    "    name = group['name']\n",
    "    members_count = group['members_count']\n",
    "    src_data = {'src':src, 'name':name, 'members_count':members_count}\n",
    "    dataforsave_json['sources'].append(src_data)\n",
    "    \n",
    "    ####\n",
    "    \n",
    "    print ('\\nParsing ', name, '(',src, ')', ' - ', counter, '/', len(sources),  '...\\n')\n",
    "    stopflag = False\n",
    "    offset = 0\n",
    "    cnt = 100\n",
    "    \n",
    "\n",
    "    #groups.getById group_id\n",
    "    \n",
    "    current_src_dir_path = os.path.join(core_dir_path, src)\n",
    "    os.mkdir(current_src_dir_path)\n",
    "    json_raw_current_src_dir_path = os.path.join(current_src_dir_path, 'raw')\n",
    "    os.mkdir(json_raw_current_src_dir_path)\n",
    "    images_current_src_dir_path = os.path.join(current_src_dir_path, 'images')\n",
    "    os.mkdir(images_current_src_dir_path)\n",
    "#     imagesdata_current_src_dir_path = os.path.join(current_src_dir_path, 'imagesdata')\n",
    "#     os.mkdir(imagesdata_current_src_dir_path)\n",
    "\n",
    "    while (not stopflag):\n",
    "        req_wallget_url = 'https://api.vk.com/method/wall.get'\n",
    "        req_wallget_payload = {'domain':src, 'count':cnt, 'offset':offset, 'v':api_version, 'access_token':app_service_token}\n",
    "        req_wallget = requests.get(req_wallget_url, params=req_wallget_payload)\n",
    "        result = req_wallget.json()\n",
    "        \n",
    "        with open(os.path.join(json_raw_current_src_dir_path,str(offset)+'_'+str(cnt)+'.json'), 'w') as outfile_json:\n",
    "            json.dump(result, outfile_json)\n",
    "        \n",
    "        items = result['response']['items']\n",
    "        for item in items:\n",
    "            \n",
    "#             print (item)\n",
    "            \n",
    "            is_ads = bool(item.get('marked_as_ads'))\n",
    "            is_pinned = bool(item.get('is_pinned'))\n",
    "                        \n",
    "            if (not is_pinned and not is_ads):\n",
    "                timestamp = int(item['date'])\n",
    "                date = datetime.utcfromtimestamp(timestamp)\n",
    " \n",
    "                if (date<lastdate):\n",
    "                    stopflag = True\n",
    "                    break \n",
    "                \n",
    "                likes_cnt = item['likes']['count']\n",
    "                reposts_cnt = item['reposts']['count']\n",
    "                comments_cnt = item['comments']['count']\n",
    "                \n",
    "                attachments = item.get('attachments')\n",
    "                if (attachments):\n",
    "                    for attachment in attachments:\n",
    "                        if (attachment['type']=='photo'):\n",
    "                            url = get_url_from_attachment(attachment)\n",
    "                            \n",
    "                            \n",
    "#                             minutes, seconds = divmod((curdate-date).total_seconds(), 60)\n",
    "                            \n",
    "#                             evaluation = evaluate_meme(likes_cnt,reposts_cnt,comments_cnt)\n",
    "#                             evaluation_normalised = evaluation/members_count\n",
    "                            \n",
    "                            fname = date.strftime('%Y_%m_%d_%H_%M_%S')+'.'+url.split('.')[-1]\n",
    "                            fname = os.path.join(images_current_src_dir_path,fname)\n",
    "                            urllib.request.urlretrieve(url, fname)\n",
    "#                             print (item['id'], src, date, url)\n",
    "                            \n",
    "                            curdict_json = dict()\n",
    "                            curdict_json['id'] = item['id']\n",
    "                            curdict_json['filepath'] = fname\n",
    "                            curdict_json['source'] = src\n",
    "                            curdict_json['likes_cnt'] = likes_cnt\n",
    "                            curdict_json['reposts_cnt'] = reposts_cnt\n",
    "                            curdict_json['comments_cnt'] = comments_cnt\n",
    "                            curdict_json['timestamp'] = timestamp\n",
    "                            curdict_json['date'] = date.strftime('%Y-%m-%d %H:%M:%S')\n",
    "#                             curdict_json['evaluation'] = evaluation\n",
    "#                             curdict_json['evaluation_normalised'] = evaluation_normalised\n",
    "                            curdict_json['url'] = url\n",
    "                            dataforsave_json['data'].append(curdict_json)\n",
    "                            \n",
    "        offset+=cnt\n",
    "        \n",
    "dataforsave_json_path = os.path.join(core_dir_path, 'memes.json')\n",
    "with open(dataforsave_json_path, 'w') as outfile:  \n",
    "    json.dump(dataforsave_json, outfile)\n",
    "\n",
    "\n",
    "                \n",
    "                \n",
    "                    \n",
    "                "
   ]
  },
  {
   "cell_type": "code",
   "execution_count": null,
   "metadata": {
    "collapsed": true
   },
   "outputs": [],
   "source": []
  }
 ],
 "metadata": {
  "kernelspec": {
   "display_name": "Python 3",
   "language": "python",
   "name": "python3"
  },
  "language_info": {
   "codemirror_mode": {
    "name": "ipython",
    "version": 3
   },
   "file_extension": ".py",
   "mimetype": "text/x-python",
   "name": "python",
   "nbconvert_exporter": "python",
   "pygments_lexer": "ipython3",
   "version": "3.5.2"
  }
 },
 "nbformat": 4,
 "nbformat_minor": 2
}
