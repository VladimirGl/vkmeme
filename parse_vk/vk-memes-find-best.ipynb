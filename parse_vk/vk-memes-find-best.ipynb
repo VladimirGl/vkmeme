{
 "cells": [
  {
   "cell_type": "code",
   "execution_count": 1,
   "metadata": {
    "collapsed": false
   },
   "outputs": [],
   "source": [
    "import requests\n",
    "from datetime import datetime, timedelta\n",
    "import time\n",
    "import os\n",
    "import json\n",
    "import cv2\n",
    "import urllib.request\n",
    "\n",
    "app_id = 6747454\n",
    "app_secured_token = 'SqPOuhy4tven1QcnYCiy'\n",
    "app_service_token = 'aedca86caedca86caedca86c46aeba5d52aaedcaedca86cf53a3025da08ab36420581a4'\n",
    "\n",
    "api_version = 5.52"
   ]
  },
  {
   "cell_type": "code",
   "execution_count": 2,
   "metadata": {
    "collapsed": false
   },
   "outputs": [],
   "source": [
    "json_file_path = '/home/asquad/workspace/memes/parsed/1541887793/memes.json'\n",
    "with open(json_file_path) as f:\n",
    "    json_parsed = json.load(f)\n",
    "    \n",
    "data = json_parsed['data']\n",
    "sources = json_parsed['sources']\n",
    "dumpdate = datetime.strptime(json_parsed['date'], '%Y-%m-%d %H:%M:%S')\n",
    "\n",
    "def getMembersCount(src):\n",
    "    cnt = None\n",
    "    for i in sources:\n",
    "        if (i['src']==src):\n",
    "            cnt = i['members_count']\n",
    "    return cnt\n",
    "\n",
    "def evaluateWeighted(element):    \n",
    "    comment_weight = 0\n",
    "    like_weight = 1\n",
    "    repost_weight = 10\n",
    "    \n",
    "    likes_cnt = element['likes_cnt']\n",
    "    reposts_cnt = element['reposts_cnt']\n",
    "    comments_cnt = element['comments_cnt']\n",
    "    \n",
    "    return likes_cnt*like_weight+reposts_cnt*repost_weight+comments_cnt*comment_weight\n",
    "\n",
    "def evaluateHottest(element, dump_datetime = dumpdate):\n",
    "    date = datetime.strptime(element['date'], '%Y-%m-%d %H:%M:%S')\n",
    "#     print (date)\n",
    "    weighted_eval = evaluateWeighted(element)\n",
    "    datediff = divmod((dump_datetime-date).total_seconds(), 60)\n",
    "    if (datediff[0]<1440):\n",
    "        result = int(1000000*weighted_eval/(datediff[0]+1))\n",
    "    else:\n",
    "        result = int(1000000*weighted_eval/1440)\n",
    "    return result\n",
    "\n",
    "def evaluateInteresting(element):\n",
    "    date = datetime.strptime(element['date'], '%Y-%m-%d %H:%M:%S')\n",
    "#     print (date)\n",
    "    weighted_eval = evaluateWeighted(element)\n",
    "    members_cnt = getMembersCount(element['source'])\n",
    "    \n",
    "    result = int(1000000*weighted_eval/members_cnt)\n",
    "    \n",
    "    return result\n",
    "    "
   ]
  },
  {
   "cell_type": "code",
   "execution_count": 3,
   "metadata": {
    "collapsed": false
   },
   "outputs": [
    {
     "name": "stdout",
     "output_type": "stream",
     "text": [
      "58233502  ->  ovsyanochan  ->  https://sun9-5.userapi.com/c635106/v635106065/14263/5vuCWvjVGT8.jpg\n",
      "54583682  ->  ovsyanochan  ->  https://sun9-1.userapi.com/c635106/v635106164/e128/2Tm_SHONMhQ.jpg\n",
      "54078239  ->  ovsyanochan  ->  https://sun9-8.userapi.com/c635106/v635106065/1425a/cDvmPSrJphQ.jpg\n",
      "53146892  ->  ovsyanochan  ->  https://pp.userapi.com/c845218/v845218376/12fe33/qvYjFmEYDGI.jpg\n",
      "49432608  ->  ovsyanochan  ->  https://pp.userapi.com/c846018/v846018468/12aa99/D6RmjucNvyE.jpg\n",
      "46924657  ->  ovsyanochan  ->  https://sun9-1.userapi.com/c635106/v635106479/1157c/lOhe9I6Isj8.jpg\n",
      "45027559  ->  ovsyanochan  ->  https://sun9-5.userapi.com/c635106/v635106534/133db/KpPf33damY0.jpg\n",
      "42512544  ->  ovsyanochan  ->  https://pp.userapi.com/c851532/v851532881/40eb2/rDnoqRGXIMA.jpg\n",
      "42051630  ->  ovsyanochan  ->  https://pp.userapi.com/c850724/v850724566/43107/6L3Dy5zaDro.jpg\n",
      "40611805  ->  mudakoff  ->  https://pp.userapi.com/c851432/v851432928/3eb05/OAn1VV4-p7E.jpg\n",
      "40541666  ->  mudakoff  ->  https://sun9-1.userapi.com/c7004/v7004665/55fa6/z84Zfsce4mU.jpg\n",
      "40203007  ->  ovsyanochan  ->  https://pp.userapi.com/c852220/v852220093/41c47/akvUkvpde0E.jpg\n",
      "39379928  ->  mudakoff  ->  https://pp.userapi.com/c848520/v848520459/b4dbe/aW0xxws3vUw.jpg\n",
      "38613475  ->  mudakoff  ->  https://pp.userapi.com/c850636/v850636525/41422/a-eZTKBw4MY.jpg\n",
      "36791666  ->  mudakoff  ->  https://pp.userapi.com/c845522/v845522975/12cf8f/evZJ5Vh3D1Q.jpg\n",
      "36576000  ->  mudakoff  ->  https://pp.userapi.com/c846121/v846121459/12acbb/54dsizi2WI4.jpg\n",
      "36394594  ->  4ch  ->  https://pp.userapi.com/c846521/v846521818/134ce1/fcwAJn3pxZA.jpg\n",
      "35786458  ->  mudakoff  ->  https://pp.userapi.com/c830401/v830401983/1b4534/_O_Kln2NWEU.jpg\n",
      "35494296  ->  ovsyanochan  ->  https://pp.userapi.com/c849524/v849524272/b7222/cl58IyZJ90s.jpg\n",
      "35466867  ->  borsch  ->  https://pp.userapi.com/c850236/v850236163/68d2c/cKZ3byfgnTI.jpg\n",
      "35139495  ->  4ch  ->  https://pp.userapi.com/c846218/v846218240/12960a/3XhC0mv7kA0.jpg\n",
      "34152777  ->  mudakoff  ->  https://pp.userapi.com/c847120/v847120597/11e8ae/hyAkpDC7Bp8.jpg\n",
      "32327083  ->  mudakoff  ->  https://pp.userapi.com/c851220/v851220884/3fbb1/-y-DAwSHTP4.jpg\n",
      "31648611  ->  mudakoff  ->  https://sun9-1.userapi.com/c7004/v7004453/52cf2/VnKSEP8Q-Cc.jpg\n",
      "31347445  ->  4ch  ->  https://pp.userapi.com/c848628/v848628964/b27eb/CEAgbjGwVLY.jpg\n"
     ]
    }
   ],
   "source": [
    "#HOTTEST\n",
    "hottest = sorted(data, key=lambda element: -evaluateHottest(element))\n",
    "for el in hottest[0:25]:\n",
    "    print (evaluateHottest(el), ' -> ', el['source'], ' -> ', el['url'])"
   ]
  },
  {
   "cell_type": "code",
   "execution_count": 4,
   "metadata": {
    "collapsed": false
   },
   "outputs": [
    {
     "name": "stdout",
     "output_type": "stream",
     "text": [
      "58481  ->  mudakoff  ->  https://pp.userapi.com/c851432/v851432928/3eb05/OAn1VV4-p7E.jpg\n",
      "58380  ->  mudakoff  ->  https://sun9-1.userapi.com/c7004/v7004665/55fa6/z84Zfsce4mU.jpg\n",
      "52980  ->  mudakoff  ->  https://pp.userapi.com/c845522/v845522975/12cf8f/evZJ5Vh3D1Q.jpg\n",
      "49180  ->  mudakoff  ->  https://pp.userapi.com/c847120/v847120597/11e8ae/hyAkpDC7Bp8.jpg\n",
      "46551  ->  mudakoff  ->  https://pp.userapi.com/c851220/v851220884/3fbb1/-y-DAwSHTP4.jpg\n",
      "45574  ->  mudakoff  ->  https://sun9-1.userapi.com/c7004/v7004453/52cf2/VnKSEP8Q-Cc.jpg\n",
      "40376  ->  mudakoff  ->  https://pp.userapi.com/c846218/v846218136/1308af/PYfR3wcY5RY.jpg\n",
      "39581  ->  mudakoff  ->  https://pp.userapi.com/c849216/v849216136/b1767/mYEzj5_OB2E.jpg\n",
      "38853  ->  mudakoff  ->  https://pp.userapi.com/c850224/v850224362/65511/EMwtjdYEfzE.jpg\n",
      "37509  ->  mudakoff  ->  https://pp.userapi.com/c851032/v851032681/3d32d/H59728d0CpY.jpg\n",
      "36951  ->  mudakoff  ->  https://pp.userapi.com/c847218/v847218293/1269f4/4SGTMc0KfUY.jpg\n",
      "36904  ->  mudakoff  ->  https://pp.userapi.com/c845217/v845217279/12cc92/0u4YTS3AzVA.jpg\n",
      "36808  ->  mudakoff  ->  https://pp.userapi.com/c851428/v851428986/3c1ab/5qp0X5Yle-8.jpg\n",
      "36793  ->  mudakoff  ->  https://pp.userapi.com/c845322/v845322279/128e83/3V5Odt75dW0.jpg\n",
      "36309  ->  ovsyanochan  ->  https://pp.userapi.com/c846019/v846019682/122585/ZAsKTEOvvhY.jpg\n",
      "35619  ->  mudakoff  ->  https://pp.userapi.com/c845524/v845524552/124545/qK0In3SIT8w.jpg\n",
      "35114  ->  mudakoff  ->  https://pp.userapi.com/c850616/v850616928/405a0/5PEuQoFdSj0.jpg\n",
      "34951  ->  ovsyanochan  ->  https://pp.userapi.com/c849520/v849520188/b4518/dM64D8CjJXg.jpg\n",
      "33999  ->  borsch  ->  https://pp.userapi.com/c846417/v846417670/11d3ce/2cjSjg8J_-8.jpg\n",
      "33799  ->  ovsyanochan  ->  https://sun9-4.userapi.com/c635106/v635106839/1f51d/lxseH23679w.jpg\n",
      "33570  ->  mudakoff  ->  https://pp.userapi.com/c848620/v848620552/b1454/pS8yDmiRCTY.jpg\n",
      "33264  ->  mudakoff  ->  https://pp.userapi.com/c849020/v849020836/b3fb6/5UqLJvcc1ik.jpg\n",
      "32129  ->  ovsyanochan  ->  https://pp.userapi.com/c850224/v850224272/63c9d/EaRuYlpp6WA.jpg\n",
      "31781  ->  ovsyanochan  ->  https://sun9-7.userapi.com/c635106/v635106497/151bb/-5s75kVqf9A.jpg\n",
      "31598  ->  4ch  ->  https://pp.userapi.com/c845322/v845322314/12e5e3/apZ95A8fjg4.jpg\n"
     ]
    }
   ],
   "source": [
    "#TOP\n",
    "top = sorted(data, key=lambda element: -evaluateWeighted(element))\n",
    "for el in top[0:25]:\n",
    "    print (evaluateWeighted(el), ' -> ', el['source'], ' -> ', el['url'])"
   ]
  },
  {
   "cell_type": "code",
   "execution_count": 5,
   "metadata": {
    "collapsed": false
   },
   "outputs": [
    {
     "name": "stdout",
     "output_type": "stream",
     "text": [
      "66302  ->  real_sci_intellectualism  ->  https://pp.userapi.com/c852232/v852232577/3aaf7/dsWemmEvpEc.jpg\n",
      "32235  ->  phys_kek  ->  https://pp.userapi.com/c845420/v845420977/126d3b/YLssbtW5aZ0.jpg\n",
      "30086  ->  phys_kek  ->  https://pp.userapi.com/c830408/v830408910/1d7e05/QUScJc3acBw.jpg\n",
      "28169  ->  phys_kek  ->  https://pp.userapi.com/c845417/v845417510/128b45/jGyQx9mF0wE.jpg\n",
      "27501  ->  dank_memes_ayylmao  ->  https://pp.userapi.com/c851224/v851224001/3a188/nedDrKLNlh4.jpg\n",
      "18948  ->  dank_memes_ayylmao  ->  https://pp.userapi.com/c848628/v848628182/b99f0/kCT2DDoP6Kg.jpg\n",
      "18042  ->  dank_memes_ayylmao  ->  https://pp.userapi.com/c845020/v845020795/12bca3/IBbtwQd9WOU.jpg\n",
      "17417  ->  dank_memes_ayylmao  ->  https://sun9-7.userapi.com/c635101/v635101637/3a159/t5eQ5LNLsns.jpg\n",
      "16785  ->  phys_kek  ->  https://pp.userapi.com/c846418/v846418125/124ca1/YqSWVE2MY4s.jpg\n",
      "16560  ->  dank_memes_ayylmao  ->  https://pp.userapi.com/c850216/v850216254/681a4/ATEwBh-oDzw.jpg\n",
      "16329  ->  dankest_dankest  ->  https://sun9-3.userapi.com/c635100/v635100001/51d64/TlJhhHR5R9I.jpg\n",
      "15535  ->  dank_memes_ayylmao  ->  https://pp.userapi.com/c850620/v850620295/3dbb7/2IAzz_pg2bw.jpg\n",
      "15035  ->  dank_memes_ayylmao  ->  https://pp.userapi.com/c844720/v844720447/12ce5b/JvJbAcdUoWQ.jpg\n",
      "14137  ->  dank_memes_ayylmao  ->  https://pp.userapi.com/c846322/v846322311/127d17/Q6Xhnjp5Ook.jpg\n",
      "13494  ->  dank_memes_ayylmao  ->  https://pp.userapi.com/c850520/v850520887/3d72f/x77Fh6jDo8A.jpg\n",
      "13422  ->  dank_memes_ayylmao  ->  https://pp.userapi.com/c850720/v850720336/3d825/4wXgVLSWl7Q.jpg\n",
      "13323  ->  dank_memes_ayylmao  ->  https://pp.userapi.com/c850720/v850720336/3d855/4da-jmyJ0tc.jpg\n",
      "13293  ->  karkb  ->  https://sun9-6.userapi.com/c543104/v543104381/438ad/sYCifJfUAsQ.jpg\n",
      "13269  ->  dank_memes_ayylmao  ->  https://pp.userapi.com/c848736/v848736795/bb5a3/xF4TaF5KRB4.jpg\n",
      "13054  ->  dank_memes_ayylmao  ->  https://pp.userapi.com/c850720/v850720336/3d868/4-9UFxXKRmY.jpg\n",
      "12906  ->  dank_memes_ayylmao  ->  https://pp.userapi.com/c850520/v850520887/3d768/rJyUGVojNzg.jpg\n",
      "12798  ->  karkb  ->  https://sun9-5.userapi.com/c543104/v543104970/38524/vZ_Nh4yxlFQ.jpg\n",
      "12724  ->  dankest_dankest  ->  https://sun9-2.userapi.com/c635100/v635100936/2896d/MrliobpMCVw.jpg\n",
      "12469  ->  dank_memes_ayylmao  ->  https://pp.userapi.com/c847121/v847121012/12161b/UWIs7neaijc.jpg\n",
      "12328  ->  karkb  ->  https://sun9-9.userapi.com/c543104/v543104523/40025/nxXpoKFK1Tc.jpg\n"
     ]
    }
   ],
   "source": [
    "#INTERESTING\n",
    "interesting = sorted(data, key=lambda element: -evaluateInteresting(element))\n",
    "for el in interesting[0:25]:\n",
    "    print (evaluateInteresting(el), ' -> ', el['source'], ' -> ', el['url'])"
   ]
  },
  {
   "cell_type": "code",
   "execution_count": null,
   "metadata": {
    "collapsed": true
   },
   "outputs": [],
   "source": []
  }
 ],
 "metadata": {
  "kernelspec": {
   "display_name": "Python 3",
   "language": "python",
   "name": "python3"
  },
  "language_info": {
   "codemirror_mode": {
    "name": "ipython",
    "version": 3
   },
   "file_extension": ".py",
   "mimetype": "text/x-python",
   "name": "python",
   "nbconvert_exporter": "python",
   "pygments_lexer": "ipython3",
   "version": "3.5.2"
  }
 },
 "nbformat": 4,
 "nbformat_minor": 2
}
